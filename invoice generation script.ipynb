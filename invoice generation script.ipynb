{
 "cells": [
  {
   "cell_type": "markdown",
   "metadata": {},
   "source": [
    "### Pattern 1 "
   ]
  },
  {
   "cell_type": "code",
   "execution_count": 50,
   "metadata": {},
   "outputs": [],
   "source": [
    "import requests\n",
    "import os\n",
    "import random\n",
    "from wand.image import Image\n",
    "from invoice_generator import InvoiceGenerator\n",
    "from PIL import Image as Image1\n",
    "from pdf2image import convert_from_path, convert_from_bytes"
   ]
  },
  {
   "cell_type": "code",
   "execution_count": 2,
   "metadata": {},
   "outputs": [],
   "source": [
    "#InvoiceGenerator.TIMEZONE = \"US/Eastern\"\n",
    "#InvoiceGenerator.LOCALE = \"en\""
   ]
  },
  {
   "cell_type": "code",
   "execution_count": 22,
   "metadata": {},
   "outputs": [],
   "source": [
    "to = [\"Robert Smith, 2 Count Street, NY, USA\",\"Elizabeth Bankers, Water street, Newark, USA\",\"Cate Blanchett, Rue Du Chatelet, Paris, France\",\"Oliver Keppler, 6 Red Block, Florida, USA\",\"Claire Tarnet, Louvre road, Paris, France\"]\n",
    "#to = [\"Joseph Marriot, 8 Bishop Street, Florida, USA\",\"Sophie Rodriguez, Beach Road, California, USA\",\"Barbara Conrad, Schteichenschul road, Frankfurt, Germany\",\"Herbert Schule, Rachtencogne, Cologne, Germany\",\"Louis Krappel, 20 Broad street, Chicago, USA\"]\n",
    "#sender = [\"COSCO Shipping Lines, Appasaheb Marathe Marg, Prabhadevi, Mumbai, Maharashtra 400025\", \"Maersk Line, Thane - Belapur Rd, Gavate Wadi, MIDC, Airoli, Navi Mumbai, Maharashtra 400708\", \"Chinese Shipping Line, Dynasty Business Park, Andheri Kurla Road, Andheri East, Mumbai - 400059\"]\n",
    "sender_names = [\"COSCO Shipping Lines\",\"Maersk Line\"]\n",
    "shipping = random.randrange(200)\n",
    "sender = [\"Qatar Shipping Company, Qatar Shipping Company (India) Pvt. Ltd., Western Express Highway, Borivali (East), Mumbai – 400 066\", \"Chinese Shipping Line, Dynasty Business Park, Andheri Kurla Road, Andheri East, Mumbai - 400059\", \"The Great Eastern Shipping Company Ltd., Worli, Mumbai, Maharashtra 400018\"]\n",
    "logo = [\"https://www.ciie.org/resource/upload/zbh/202007/22160346v8ry.jpg\",\"https://i.pinimg.com/originals/a2/bf/81/a2bf81ff051821561bd10ef328aa87da.jpg\",\"https://iconape.com/wp-content/files/fv/43698/png/china-shipping.png\"]\n",
    "items = [\"Ethylene\",\"Grignard Methylene\",\"Benzoid\"]"
   ]
  },
  {
   "cell_type": "code",
   "execution_count": 112,
   "metadata": {},
   "outputs": [],
   "source": [
    "for i in range(15):\n",
    "    to_num = random.randrange(5)\n",
    "    logo_num = random.randrange(0,2)\n",
    "    quantity = random.randrange(1,10)\n",
    "    unit_cost = random.randrange(1,200)\n",
    "    number = random.randrange(10000, 20000)\n",
    "    invoice = InvoiceGenerator(\n",
    "        sender=sender[logo_num],\n",
    "        to=to[to_num],\n",
    "        logo=logo[logo_num],\n",
    "        number=number,\n",
    "        notes=\"Thanks for your business!\",\n",
    "        shipping=shipping\n",
    "    )\n",
    "    invoice.add_item(\n",
    "    name=items[logo_num],\n",
    "    quantity=quantity,\n",
    "    unit_cost=unit_cost,\n",
    "    )\n",
    "    invoice.download(\"./invoice dataset/invoice_\"+str(i)+\".pdf\")"
   ]
  },
  {
   "cell_type": "markdown",
   "metadata": {},
   "source": [
    "### Pattern 2 using Selenium "
   ]
  },
  {
   "cell_type": "code",
   "execution_count": 4,
   "metadata": {},
   "outputs": [],
   "source": [
    "from selenium import webdriver  \n",
    "import time  \n",
    "from selenium.webdriver.common.keys import Keys "
   ]
  },
  {
   "cell_type": "code",
   "execution_count": 5,
   "metadata": {},
   "outputs": [],
   "source": [
    "driver = webdriver.Chrome(r\"C:\\Users\\M433IA\\Downloads\\chromedriver_win32\\chromedriver.exe\")  \n",
    "driver.maximize_window()  \n",
    "driver.get(\"https://invoicehome.com/sign-in\")  "
   ]
  },
  {
   "cell_type": "code",
   "execution_count": 6,
   "metadata": {},
   "outputs": [],
   "source": [
    "driver.find_element_by_id(\"email\").send_keys(\"emailID\")  \n",
    "time.sleep(1)  \n",
    "driver.find_element_by_id(\"password\").send_keys(\"password\")  \n",
    "time.sleep(1)  "
   ]
  },
  {
   "cell_type": "code",
   "execution_count": 7,
   "metadata": {},
   "outputs": [],
   "source": [
    "driver.find_element_by_name(\"commit\").send_keys(Keys.ENTER)  \n",
    "time.sleep(2) "
   ]
  },
  {
   "cell_type": "code",
   "execution_count": 24,
   "metadata": {},
   "outputs": [],
   "source": [
    "for i in range(15):\n",
    "    to_num = random.randrange(5)\n",
    "    logo_num = random.randrange(0,2)\n",
    "    quantity = random.randrange(1,10)\n",
    "    unit_cost = random.randrange(1,200)\n",
    "    number = random.randrange(10000, 20000)\n",
    "    \n",
    "    driver.find_element_by_id(\"switch\").click()\n",
    "    time.sleep(1) \n",
    "    driver.find_element_by_id(\"invoice_number\").clear()\n",
    "    driver.find_element_by_id(\"invoice_number\").send_keys(number)  \n",
    "    time.sleep(1) \n",
    "    driver.find_element_by_id(\"invoice_from\").clear()\n",
    "    driver.find_element_by_id(\"invoice_from\").send_keys(sender[logo_num])  \n",
    "    time.sleep(1)\n",
    "    driver.find_element_by_id(\"invoice_billing\").clear()\n",
    "    driver.find_element_by_id(\"invoice_billing\").send_keys(to[to_num])  \n",
    "    time.sleep(1)\n",
    "    driver.find_element_by_id(\"invoice_items_attributes_0_quantity\").send_keys(quantity)  \n",
    "    time.sleep(1)\n",
    "    driver.find_element_by_id(\"invoice_items_attributes_0_description\").send_keys(items[logo_num])  \n",
    "    time.sleep(1)\n",
    "    driver.find_element_by_id(\"invoice_items_attributes_0_price\").send_keys(unit_cost)  \n",
    "    time.sleep(1)\n",
    "    driver.find_element_by_id(\"done\").click()\n",
    "    time.sleep(2) \n",
    "    element = driver.find_element_by_link_text(\"Download\")\n",
    "    element.click()\n",
    "    time.sleep(2) "
   ]
  },
  {
   "cell_type": "code",
   "execution_count": 25,
   "metadata": {},
   "outputs": [],
   "source": [
    "driver.close()  "
   ]
  },
  {
   "cell_type": "markdown",
   "metadata": {},
   "source": [
    "### Part 3: conversion to images using pdf2images"
   ]
  },
  {
   "cell_type": "code",
   "execution_count": 62,
   "metadata": {},
   "outputs": [],
   "source": [
    "arr = os.listdir(\"./invoice dataset\")\n",
    "for i in range(1,len(arr)):\n",
    "    f = \"./invoice dataset/\"+arr[i]\n",
    "    pages = convert_from_path(f, 300, poppler_path=r\"C:\\Program Files\\poppler-20.12.1\\Library\\bin\")\n",
    "    newfilename = \"./dataset images/invoice_\"+str(i) + '.jpg'\n",
    "    for page in pages:\n",
    "        page.save(newfilename, 'JPEG')\n",
    "    im = Image1.open(newfilename)\n",
    "    im.save(newfilename, dpi=(300,300))"
   ]
  },
  {
   "cell_type": "markdown",
   "metadata": {},
   "source": [
    "#### using wand.image library (not useful, ignore) "
   ]
  },
  {
   "cell_type": "code",
   "execution_count": 55,
   "metadata": {},
   "outputs": [
    {
     "ename": "KeyboardInterrupt",
     "evalue": "",
     "output_type": "error",
     "traceback": [
      "\u001b[1;31m---------------------------------------------------------------------------\u001b[0m",
      "\u001b[1;31mKeyboardInterrupt\u001b[0m                         Traceback (most recent call last)",
      "\u001b[1;32m<ipython-input-55-332aff884597>\u001b[0m in \u001b[0;36m<module>\u001b[1;34m\u001b[0m\n\u001b[0;32m      2\u001b[0m \u001b[1;32mfor\u001b[0m \u001b[0mi\u001b[0m \u001b[1;32min\u001b[0m \u001b[0mrange\u001b[0m\u001b[1;33m(\u001b[0m\u001b[1;36m1\u001b[0m\u001b[1;33m,\u001b[0m\u001b[0mlen\u001b[0m\u001b[1;33m(\u001b[0m\u001b[0marr\u001b[0m\u001b[1;33m)\u001b[0m\u001b[1;33m)\u001b[0m\u001b[1;33m:\u001b[0m\u001b[1;33m\u001b[0m\u001b[1;33m\u001b[0m\u001b[0m\n\u001b[0;32m      3\u001b[0m     \u001b[0mf\u001b[0m \u001b[1;33m=\u001b[0m \u001b[1;34m\"./invoice dataset/\"\u001b[0m\u001b[1;33m+\u001b[0m\u001b[0marr\u001b[0m\u001b[1;33m[\u001b[0m\u001b[0mi\u001b[0m\u001b[1;33m]\u001b[0m\u001b[1;33m\u001b[0m\u001b[1;33m\u001b[0m\u001b[0m\n\u001b[1;32m----> 4\u001b[1;33m     \u001b[1;32mwith\u001b[0m\u001b[1;33m(\u001b[0m\u001b[0mImage\u001b[0m\u001b[1;33m(\u001b[0m\u001b[0mfilename\u001b[0m\u001b[1;33m=\u001b[0m\u001b[0mf\u001b[0m\u001b[1;33m,\u001b[0m \u001b[0mresolution\u001b[0m\u001b[1;33m=\u001b[0m\u001b[1;36m300\u001b[0m\u001b[1;33m)\u001b[0m\u001b[1;33m)\u001b[0m \u001b[1;32mas\u001b[0m \u001b[0msource\u001b[0m\u001b[1;33m:\u001b[0m\u001b[1;33m\u001b[0m\u001b[1;33m\u001b[0m\u001b[0m\n\u001b[0m\u001b[0;32m      5\u001b[0m         \u001b[1;32mfor\u001b[0m \u001b[0mj\u001b[0m\u001b[1;33m,\u001b[0m \u001b[0mimage\u001b[0m \u001b[1;32min\u001b[0m \u001b[0menumerate\u001b[0m\u001b[1;33m(\u001b[0m\u001b[0msource\u001b[0m\u001b[1;33m.\u001b[0m\u001b[0msequence\u001b[0m\u001b[1;33m)\u001b[0m\u001b[1;33m:\u001b[0m\u001b[1;33m\u001b[0m\u001b[1;33m\u001b[0m\u001b[0m\n\u001b[0;32m      6\u001b[0m             \u001b[0mnewfilename\u001b[0m \u001b[1;33m=\u001b[0m \u001b[1;34m\"./dataset images/invoice_\"\u001b[0m\u001b[1;33m+\u001b[0m\u001b[0mstr\u001b[0m\u001b[1;33m(\u001b[0m\u001b[0mi\u001b[0m\u001b[1;33m)\u001b[0m \u001b[1;33m+\u001b[0m \u001b[1;34m'.jpg'\u001b[0m\u001b[1;33m\u001b[0m\u001b[1;33m\u001b[0m\u001b[0m\n",
      "\u001b[1;32m~\\anaconda3\\lib\\site-packages\\wand\\image.py\u001b[0m in \u001b[0;36m__init__\u001b[1;34m(self, image, blob, file, filename, pseudo, background, colorspace, depth, extract, format, height, interlace, resolution, sampling_factors, units, width)\u001b[0m\n\u001b[0;32m   9071\u001b[0m                     \u001b[0mself\u001b[0m\u001b[1;33m.\u001b[0m\u001b[0mread\u001b[0m\u001b[1;33m(\u001b[0m\u001b[0mblob\u001b[0m\u001b[1;33m=\u001b[0m\u001b[0mblob\u001b[0m\u001b[1;33m)\u001b[0m\u001b[1;33m\u001b[0m\u001b[1;33m\u001b[0m\u001b[0m\n\u001b[0;32m   9072\u001b[0m                 \u001b[1;32melif\u001b[0m \u001b[0mfilename\u001b[0m \u001b[1;32mis\u001b[0m \u001b[1;32mnot\u001b[0m \u001b[1;32mNone\u001b[0m\u001b[1;33m:\u001b[0m\u001b[1;33m\u001b[0m\u001b[1;33m\u001b[0m\u001b[0m\n\u001b[1;32m-> 9073\u001b[1;33m                     \u001b[0mself\u001b[0m\u001b[1;33m.\u001b[0m\u001b[0mread\u001b[0m\u001b[1;33m(\u001b[0m\u001b[0mfilename\u001b[0m\u001b[1;33m=\u001b[0m\u001b[0mfilename\u001b[0m\u001b[1;33m)\u001b[0m\u001b[1;33m\u001b[0m\u001b[1;33m\u001b[0m\u001b[0m\n\u001b[0m\u001b[0;32m   9074\u001b[0m                 \u001b[1;31m# clear the wand format, otherwise any subsequent call to\u001b[0m\u001b[1;33m\u001b[0m\u001b[1;33m\u001b[0m\u001b[1;33m\u001b[0m\u001b[0m\n\u001b[0;32m   9075\u001b[0m                 \u001b[1;31m# MagickGetImageBlob will silently change the image to this\u001b[0m\u001b[1;33m\u001b[0m\u001b[1;33m\u001b[0m\u001b[1;33m\u001b[0m\u001b[0m\n",
      "\u001b[1;32m~\\anaconda3\\lib\\site-packages\\wand\\image.py\u001b[0m in \u001b[0;36mread\u001b[1;34m(self, file, filename, blob, background, colorspace, depth, extract, format, height, interlace, resolution, sampling_factors, units, width)\u001b[0m\n\u001b[0;32m   9664\u001b[0m         \u001b[1;32melif\u001b[0m \u001b[0mfilename\u001b[0m \u001b[1;32mis\u001b[0m \u001b[1;32mnot\u001b[0m \u001b[1;32mNone\u001b[0m\u001b[1;33m:\u001b[0m\u001b[1;33m\u001b[0m\u001b[1;33m\u001b[0m\u001b[0m\n\u001b[0;32m   9665\u001b[0m             \u001b[0mfilename\u001b[0m \u001b[1;33m=\u001b[0m \u001b[0mencode_filename\u001b[0m\u001b[1;33m(\u001b[0m\u001b[0mfilename\u001b[0m\u001b[1;33m)\u001b[0m\u001b[1;33m\u001b[0m\u001b[1;33m\u001b[0m\u001b[0m\n\u001b[1;32m-> 9666\u001b[1;33m             \u001b[0mr\u001b[0m \u001b[1;33m=\u001b[0m \u001b[0mlibrary\u001b[0m\u001b[1;33m.\u001b[0m\u001b[0mMagickReadImage\u001b[0m\u001b[1;33m(\u001b[0m\u001b[0mself\u001b[0m\u001b[1;33m.\u001b[0m\u001b[0mwand\u001b[0m\u001b[1;33m,\u001b[0m \u001b[0mfilename\u001b[0m\u001b[1;33m)\u001b[0m\u001b[1;33m\u001b[0m\u001b[1;33m\u001b[0m\u001b[0m\n\u001b[0m\u001b[0;32m   9667\u001b[0m         \u001b[1;32mif\u001b[0m \u001b[1;32mnot\u001b[0m \u001b[0mr\u001b[0m\u001b[1;33m:\u001b[0m\u001b[1;33m\u001b[0m\u001b[1;33m\u001b[0m\u001b[0m\n\u001b[0;32m   9668\u001b[0m             \u001b[0mself\u001b[0m\u001b[1;33m.\u001b[0m\u001b[0mraise_exception\u001b[0m\u001b[1;33m(\u001b[0m\u001b[1;33m)\u001b[0m\u001b[1;33m\u001b[0m\u001b[1;33m\u001b[0m\u001b[0m\n",
      "\u001b[1;31mKeyboardInterrupt\u001b[0m: "
     ]
    }
   ],
   "source": [
    "arr = os.listdir(\"./invoice dataset\")\n",
    "for i in range(1,len(arr)):\n",
    "    f = \"./invoice dataset/\"+arr[i]\n",
    "    with(Image(filename=f, resolution=300)) as source: \n",
    "        for j, image in enumerate(source.sequence):\n",
    "            newfilename = \"./dataset images/invoice_\"+str(i) + '.jpg'\n",
    "            Image(image).save(filename=newfilename)\n",
    "            im = Image1.open(newfilename)\n",
    "            im.save(newfilename, dpi=(300,300))"
   ]
  },
  {
   "cell_type": "code",
   "execution_count": 35,
   "metadata": {},
   "outputs": [],
   "source": []
  },
  {
   "cell_type": "code",
   "execution_count": null,
   "metadata": {},
   "outputs": [],
   "source": []
  },
  {
   "cell_type": "code",
   "execution_count": null,
   "metadata": {},
   "outputs": [],
   "source": []
  }
 ],
 "metadata": {
  "kernelspec": {
   "display_name": "Python 3",
   "language": "python",
   "name": "python3"
  },
  "language_info": {
   "codemirror_mode": {
    "name": "ipython",
    "version": 3
   },
   "file_extension": ".py",
   "mimetype": "text/x-python",
   "name": "python",
   "nbconvert_exporter": "python",
   "pygments_lexer": "ipython3",
   "version": "3.8.3"
  }
 },
 "nbformat": 4,
 "nbformat_minor": 4
}
